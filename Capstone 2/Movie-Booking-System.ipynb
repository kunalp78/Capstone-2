{
 "cells": [
  {
   "cell_type": "code",
   "execution_count": 2,
   "id": "7e826ec9-a603-4f8b-98c6-a65f3e2466ed",
   "metadata": {},
   "outputs": [],
   "source": [
    "class User:\n",
    "    \"\"\"\n",
    "    User: \n",
    "        Handles user details, login, and registration\n",
    "    \"\"\"\n",
    "    users = {}\n",
    "    def __init__(self, name, username, password):\n",
    "        self.name = name\n",
    "        self.username = username\n",
    "        self.password = hash(password)\n",
    "        self.booking = [] # stores users booking history\n",
    "\n",
    "    @classmethod\n",
    "    def register(cls):\n",
    "        name = input(\"Enter the name: \")\n",
    "        username = input(\"Enter the username: \")\n",
    "        if username in cls.users:\n",
    "            print(\"Username already exists!!\")\n",
    "            return None\n",
    "        password = input(\"Enter the password: \")\n",
    "        \"\"\"\n",
    "        users = {\n",
    "        \"nainish\": <User object: name, password,...>\n",
    "        }\n",
    "        \"\"\"\n",
    "        cls.users[username] = User(name, username, password)\n",
    "        print(\"Registration Successfull!!\")\n",
    "        return cls.users[username]\n",
    "\n",
    "    @classmethod\n",
    "    def login(self):\n",
    "        username = input(\"Enter the username: \")\n",
    "        password = input(\"Enter the password: \")\n",
    "        if username in self.users and self.users.get(username).password == hash(password):\n",
    "            print(\"Login Successfull!!\")\n",
    "            return self.users[username]\n",
    "        print(\"Username or Password isn't correct!!\")\n",
    "        return None"
   ]
  },
  {
   "cell_type": "code",
   "execution_count": 3,
   "id": "9a158f65-3585-4fe7-8f07-d14ce5ac5edf",
   "metadata": {},
   "outputs": [
    {
     "name": "stdin",
     "output_type": "stream",
     "text": [
      "Enter the name:  Martin\n",
      "Enter the username:  reachlinmartin\n",
      "Enter the password:  123456789\n"
     ]
    },
    {
     "name": "stdout",
     "output_type": "stream",
     "text": [
      "Registration Successfull!!\n"
     ]
    }
   ],
   "source": [
    "u1 = User.register()"
   ]
  },
  {
   "cell_type": "code",
   "execution_count": 4,
   "id": "98eca971-3745-4194-b71a-8adad2d7ab8d",
   "metadata": {},
   "outputs": [
    {
     "name": "stdin",
     "output_type": "stream",
     "text": [
      "Enter the username:  reachlinmartin\n",
      "Enter the password:  123456789\n"
     ]
    },
    {
     "name": "stdout",
     "output_type": "stream",
     "text": [
      "Login Successfull!!\n"
     ]
    }
   ],
   "source": [
    "u2 = User.login()"
   ]
  },
  {
   "cell_type": "code",
   "execution_count": 6,
   "id": "9803bb5b-1b9a-4863-8abf-2092c2c34639",
   "metadata": {},
   "outputs": [
    {
     "data": {
      "text/plain": [
       "{'name': 'Martin',\n",
       " 'username': 'reachlinmartin',\n",
       " 'password': -7055707494296392608,\n",
       " 'booking': []}"
      ]
     },
     "execution_count": 6,
     "metadata": {},
     "output_type": "execute_result"
    }
   ],
   "source": [
    "u2.__dict__"
   ]
  },
  {
   "cell_type": "code",
   "execution_count": 7,
   "id": "5a113bd8-9a36-46a0-809a-4b0c3eed8f80",
   "metadata": {},
   "outputs": [
    {
     "data": {
      "text/plain": [
       "'reachlinmartin'"
      ]
     },
     "execution_count": 7,
     "metadata": {},
     "output_type": "execute_result"
    }
   ],
   "source": [
    "u2.username"
   ]
  },
  {
   "cell_type": "code",
   "execution_count": 8,
   "id": "7d37dc74-a1fb-4d1f-bf7f-f2431d0f6158",
   "metadata": {},
   "outputs": [
    {
     "data": {
      "text/plain": [
       "-7055707494296392608"
      ]
     },
     "execution_count": 8,
     "metadata": {},
     "output_type": "execute_result"
    }
   ],
   "source": [
    "u2.password"
   ]
  },
  {
   "cell_type": "code",
   "execution_count": 9,
   "id": "be0134d1-6f31-4c7f-9e61-cc207bb6a813",
   "metadata": {},
   "outputs": [
    {
     "data": {
      "text/plain": [
       "{'reachlinmartin': <__main__.User at 0x21a04b7c1a0>}"
      ]
     },
     "execution_count": 9,
     "metadata": {},
     "output_type": "execute_result"
    }
   ],
   "source": [
    "User.users"
   ]
  },
  {
   "cell_type": "code",
   "execution_count": 10,
   "id": "e43d5249-0d7e-48e3-bcb9-f08a3859a3ff",
   "metadata": {},
   "outputs": [],
   "source": [
    "u3 = User(\"Nainish\", \"nainish123\", 123456)"
   ]
  },
  {
   "cell_type": "code",
   "execution_count": 11,
   "id": "11e1d1e5-5c3c-4d88-b57e-0180132b264f",
   "metadata": {},
   "outputs": [
    {
     "data": {
      "text/plain": [
       "<__main__.User at 0x21a04e1e990>"
      ]
     },
     "execution_count": 11,
     "metadata": {},
     "output_type": "execute_result"
    }
   ],
   "source": [
    "u3"
   ]
  },
  {
   "cell_type": "code",
   "execution_count": 12,
   "id": "2d89ea7e-884f-46e9-8d46-0fd04b309c4b",
   "metadata": {},
   "outputs": [],
   "source": [
    "User.users[\"Nainish\"] = u3"
   ]
  },
  {
   "cell_type": "code",
   "execution_count": 13,
   "id": "4158b0f3-a4aa-4e7b-bbd8-5eb10d1c26b7",
   "metadata": {},
   "outputs": [
    {
     "data": {
      "text/plain": [
       "{'reachlinmartin': <__main__.User at 0x21a04b7c1a0>,\n",
       " 'Nainish': <__main__.User at 0x21a04e1e990>}"
      ]
     },
     "execution_count": 13,
     "metadata": {},
     "output_type": "execute_result"
    }
   ],
   "source": [
    "User.users"
   ]
  },
  {
   "cell_type": "code",
   "execution_count": 17,
   "id": "2aebe3fe-cc66-49ef-b742-8dd98d87726f",
   "metadata": {},
   "outputs": [
    {
     "data": {
      "text/plain": [
       "<__main__.User at 0x21a04e1e990>"
      ]
     },
     "execution_count": 17,
     "metadata": {},
     "output_type": "execute_result"
    }
   ],
   "source": [
    "User.users[\"Nainish\"]"
   ]
  },
  {
   "cell_type": "code",
   "execution_count": null,
   "id": "8934001f-76ef-4c23-be16-e57853ff196f",
   "metadata": {},
   "outputs": [],
   "source": []
  }
 ],
 "metadata": {
  "kernelspec": {
   "display_name": "Python 3 (ipykernel)",
   "language": "python",
   "name": "python3"
  },
  "language_info": {
   "codemirror_mode": {
    "name": "ipython",
    "version": 3
   },
   "file_extension": ".py",
   "mimetype": "text/x-python",
   "name": "python",
   "nbconvert_exporter": "python",
   "pygments_lexer": "ipython3",
   "version": "3.13.0"
  }
 },
 "nbformat": 4,
 "nbformat_minor": 5
}
